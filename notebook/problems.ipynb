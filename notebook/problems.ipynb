{
    "cells": [
        {
            "cell_type": "markdown",
            "id": "ac622319",
            "metadata": {},
            "source": [
                "# Descriptive statistics problems"
            ]
        },
        {
            "cell_type": "markdown",
            "id": "5e0ab0d5",
            "metadata": {},
            "source": [
                "### Exercise 1\n",
                "\n",
                "We will use NumPy to obtain information to describe statistically.\n",
                "\n",
                "- Generate an array of 100 elements following a normal distribution.\n",
                "- Generate an array of 100 elements following a chi-square distribution with 3 degrees of freedom.\n",
                "- Calculate the main metrics and statistical measures that best describe the two vectors."
            ]
        },
        {
            "cell_type": "code",
            "execution_count": 9,
            "id": "34720ab6",
            "metadata": {},
            "outputs": [
                {
                    "name": "stdout",
                    "output_type": "stream",
                    "text": [
                        "Vectores Normales y Chi\n",
                        "Vectores Normales: [-0.57221735  0.74405783  1.71782746 -1.40300127 -0.81490121 -0.52253983\n",
                        " -0.24914541  0.34232445  1.60505651  1.08278282 -0.87968162 -0.02974379\n",
                        " -0.09576543 -1.11465609  0.76749613  0.62674478 -0.20375349 -1.02755447\n",
                        "  1.46179016 -0.01853185 -0.37076023 -1.05961023 -1.26982299 -0.20901346\n",
                        "  0.01348309  0.59885096 -0.15930834 -0.40330928  1.71486116  0.36126412\n",
                        " -1.15947622 -0.34232613  0.00271915  0.20783739  2.52435176 -0.49222968\n",
                        " -0.30668004  0.39493252 -0.06242335  0.55065696  0.95489382  1.79874924\n",
                        "  0.48499446  1.01256118  0.33834089 -0.46504057 -0.35653424 -0.04526683\n",
                        "  0.05057611  0.86109087  0.46719578  0.54270439  0.27549304 -0.51103845\n",
                        " -1.28658752  0.64246295  0.97145263  0.85812561  1.60593719  0.04453551\n",
                        "  0.18179491 -1.16465086 -0.49708148 -1.2815562   2.03793349  1.02238439\n",
                        " -0.32247694  0.91016742 -2.06008434 -0.72382866  0.64367568  0.30160132\n",
                        " -0.06464474 -1.90834611 -0.31328694 -0.50002681  0.22328623  0.05244574\n",
                        "  1.11382062  0.23881467 -0.26877684  1.61381267  2.02305204 -1.41294119\n",
                        " -0.31999032  0.13402168  0.26739749 -1.76811445  1.07700009  0.5048867\n",
                        "  1.02715295 -0.4657428   0.30990349  0.81187321 -0.6427363   0.03152857\n",
                        " -0.74941986 -0.74175923  0.50438217  1.05419128]\n",
                        "Vector Chi-square: [1.7892547  2.04784535 0.50128756 1.48121311 5.12068332 5.31862304\n",
                        " 4.06873236 6.58501651 3.57213387 2.71461216 4.7590436  4.47609223\n",
                        " 0.94520304 2.83583389 1.31772093 3.86708082 7.04583629 2.33478966\n",
                        " 3.50621154 3.34092088 0.18989182 0.9563083  4.40221746 0.251788\n",
                        " 1.76866605 1.27001903 2.82711448 1.35690401 1.05631107 8.22061735\n",
                        " 1.38146102 3.94941008 1.19212877 3.5262091  6.71803907 3.69358963\n",
                        " 1.20704793 5.79903461 1.01479728 6.24322264 3.74569102 8.52246432\n",
                        " 2.92488367 1.84026821 5.44956139 3.53477179 3.87111203 0.54531262\n",
                        " 1.95765776 2.25490447 2.10088916 0.79129208 1.32397386 1.9369927\n",
                        " 0.6712144  7.68803915 8.49555775 1.6979036  8.89135706 1.33807922\n",
                        " 5.06073158 0.19898993 4.01258924 1.70762208 3.21021019 2.76830553\n",
                        " 3.10020197 0.67053113 0.89119737 1.27822727 0.16423897 0.6460191\n",
                        " 0.55485544 3.39842366 2.25443825 1.06953526 1.69353545 4.04002713\n",
                        " 6.18955494 2.18543493 0.87240522 0.43296177 6.24470401 0.81548759\n",
                        " 1.33075407 0.81814553 1.29944257 3.21702603 9.85875802 4.81747171\n",
                        " 3.00295079 0.76888414 0.63978954 6.16924471 8.98373226 1.85800032\n",
                        " 0.45956691 0.4080141  5.11883354 6.7769757 ]\n"
                    ]
                }
            ],
            "source": [
                "# TODO\n",
                "import numpy as np\n",
                "import statistics as stats\n",
                "import pandas as pd\n",
                "from scipy.stats import kurtosis\n",
                "from scipy.stats import skew\n",
                "import math\n",
                "import sys\n",
                "\n",
                "Normales = np.random.normal(size = 100)\n",
                "Chi_ste = np.random.chisquare(3, 100)\n",
                "\n",
                "#Vectores Normales y Chi\n",
                "print(f\"Vectores Normales y Chi\")\n",
                "print(f\"Vectores Normales: {Normales}\")\n",
                "print(f\"Vector Chi-square: {Chi_ste}\")\n"
            ]
        },
        {
            "cell_type": "code",
            "execution_count": 3,
            "id": "34e2b435",
            "metadata": {},
            "outputs": [
                {
                    "name": "stdout",
                    "output_type": "stream",
                    "text": [
                        "Medias de Normales y Chi\n",
                        "Media normal: -0.012128164768915206\n",
                        "Media Chi: 3.0662482757370295\n",
                        "\n",
                        "Mediana de Normales y Chi\n",
                        "Mediana Normal: 0.018976501307676866\n",
                        "Mediana Chi: 2.13653461018419\n",
                        "\n",
                        "Rango Normal 5.6924462374295235\n",
                        "Rango Chi: 15.457525950775583\n",
                        "\n",
                        "Modo Normal: 1.6981292836722564\n",
                        "Modo Chi: 0.5997011297795859\n",
                        "\n"
                    ]
                }
            ],
            "source": [
                "# Medias de Normales y Chi\n",
                "print(f\"Medias de Normales y Chi\")\n",
                "print(f\"Media normal: {stats.mean(Normales)}\")\n",
                "print(f\"Media Chi: {stats.mean(Chi_ste)}\\n\")\n",
                "\n",
                "#Mediana de Normales y Chi\n",
                "print(f\"Mediana de Normales y Chi\")\n",
                "print(f\"Mediana Normal: {stats.median(Normales)}\")\n",
                "print(f\"Mediana Chi: {stats.median(Chi_ste)}\\n\")\n",
                "\n",
                "#Rango de Normales y Chi\n",
                "rango_normal = max(Normales)- min(Normales)\n",
                "rango_chi = max(Chi_ste) - min(Chi_ste)\n",
                "print(f\"Rango Normal {rango_normal}\")\n",
                "print(f\"Rango Chi: {rango_chi}\\n\")\n",
                "\n",
                "#Modo de Normales y Chi\n",
                "print(f\"Modo Normal: {stats.mode(Normales)}\")\n",
                "print(f\"Modo Chi: {stats.mode(Chi_ste)}\\n\")\n"
            ]
        },
        {
            "cell_type": "code",
            "execution_count": 4,
            "id": "812014d6",
            "metadata": {},
            "outputs": [
                {
                    "name": "stdout",
                    "output_type": "stream",
                    "text": [
                        "Kurtosis Normal: [ 1.69812928e+00 -9.77193584e-01 -3.07681729e-01  5.61762876e-01\n",
                        " -7.89044488e-01 -6.79906273e-01  3.58423187e-01 -1.53250452e+00\n",
                        " -1.09115294e+00 -3.58507309e-01  3.94296538e-01 -5.51117320e-01\n",
                        " -1.06164439e+00  1.21817023e+00  7.76888034e-01  8.39079950e-01\n",
                        " -5.20291468e-02 -7.59763795e-01 -3.23222158e-01 -3.04210542e-01\n",
                        "  4.36726237e-01  6.60966797e-01  4.02637880e-01 -1.70157138e+00\n",
                        "  1.12060701e-01  5.10771843e-01  4.60197695e-01 -8.84897399e-01\n",
                        " -3.47977453e-03 -1.37315744e+00  2.78113552e-01 -7.66742906e-01\n",
                        "  2.56977077e-01 -6.86327194e-01 -4.19406169e-01 -1.32169597e+00\n",
                        "  4.18551935e-01 -5.02998802e-01 -1.14854665e+00 -1.41942174e+00\n",
                        "  1.79082702e-01  1.27013704e+00  2.56099068e-01  5.97384421e-01\n",
                        "  1.13939989e-01  1.08680671e-03  8.06650535e-01  5.96884345e-03\n",
                        "  5.93376056e-02  9.61990910e-01  1.79410941e+00 -7.06368726e-01\n",
                        " -1.18892803e+00  5.94520700e-01 -7.16988653e-03  5.61113802e-01\n",
                        "  6.60152483e-01  2.73416118e-01  2.67816251e+00 -2.57492207e-01\n",
                        " -1.21403959e+00 -2.12023387e-01 -2.04758813e-01  7.00327857e-01\n",
                        "  1.00460864e+00  5.72798771e-02 -2.49673746e+00  3.67149535e-01\n",
                        " -4.08579982e-01 -3.85126684e-01  9.02724881e-01  1.76041824e+00\n",
                        " -4.02178348e-01  3.37738308e-01 -3.50799171e-01 -3.84823644e-01\n",
                        " -1.51431616e+00  1.06422020e+00  1.31203888e+00 -6.55291346e-01\n",
                        " -7.29209633e-01 -5.20676342e-01 -5.92362853e-02  1.23814295e+00\n",
                        " -1.21364311e+00  1.41934402e+00 -8.97197651e-01 -3.01428373e+00\n",
                        " -1.70075689e+00  6.37238861e-01  1.59314245e-01  2.69061630e-01\n",
                        "  2.90087062e-01  2.36513104e+00  3.19841592e-02 -1.19467612e+00\n",
                        " -5.89691687e-01  8.93540298e-01  1.72875471e+00  1.37539986e+00]\n",
                        "Kurtosis Chi: [ 0.59970113  1.57579528  0.88358881  1.20740873  1.21717571  2.27723137\n",
                        "  5.60677563  3.29251898  0.43539567  0.24516907  5.09973067  2.64639089\n",
                        "  1.92312794  0.8008875   0.64984793  0.15050998  4.26674274  2.26900891\n",
                        "  1.89487474  1.52231194  4.02122057  4.58427977  2.9764402   0.48049646\n",
                        "  3.22437888  3.38812755  2.44373233  1.51386785  0.89100819  0.52404109\n",
                        "  8.50064676  0.90461374  4.06602451  1.59498004  7.62002225  4.20017045\n",
                        "  1.40365189  1.56914878  5.99015106 12.65891589  1.78365116  3.76173392\n",
                        "  1.24204016  3.33688748  1.25415746  2.47372015  1.03769337  3.15514089\n",
                        "  0.09180976  7.45627761  2.25638063  0.97035839 14.62025856  4.20001547\n",
                        "  0.55397592  2.44362595  7.7414005   2.4156819   3.02380983  5.7830395\n",
                        "  0.20363172  1.10883998  2.1186933   3.52171193  3.98777442  1.57421648\n",
                        "  2.15437592  4.43701014  2.56969652  1.80212078  3.33917788  0.82399477\n",
                        "  3.84382672 14.12162494 11.80074838  0.16488804  0.36993124  1.63670505\n",
                        "  2.0175942   1.33425741  2.43724774 15.54933571  1.02692368  1.67673258\n",
                        "  4.68807407  1.45207406  1.06852056  2.61990453  3.33921227  1.50849717\n",
                        "  3.61706342  0.16978782  1.21950624  3.90280335  3.69540575 10.67778501\n",
                        "  1.08448142  1.346083    0.46668036  1.42611848]\n"
                    ]
                }
            ],
            "source": [
                "#Kurtosis normales y chi\n",
                "kurt_cobain_normal = kurtosis(Normales)\n",
                "kurt_cobain_chi_mode = kurtosis(Chi_ste)\n",
                "\n",
                "print(f\"Kurtosis Normal: {Normales}\")\n",
                "print(f\"Kurtosis Chi: {Chi_ste}\")\n"
            ]
        },
        {
            "cell_type": "code",
            "execution_count": 5,
            "id": "7949a083",
            "metadata": {},
            "outputs": [
                {
                    "name": "stdout",
                    "output_type": "stream",
                    "text": [
                        "Skewness Normal: -0.057785484662291546\n",
                        "Skewness Chi: 2.2153499624026254\n"
                    ]
                }
            ],
            "source": [
                "#Modo Skewness para normales y chi\n",
                "Normal_skew = skew(Normales)\n",
                "Chi_Skew = skew(Chi_ste)\n",
                "\n",
                "print(f\"Skewness Normal: {Normal_skew}\")\n",
                "print(f\"Skewness Chi: {Chi_Skew}\")"
            ]
        },
        {
            "cell_type": "code",
            "execution_count": 6,
            "id": "9968e235",
            "metadata": {},
            "outputs": [
                {
                    "name": "stdout",
                    "output_type": "stream",
                    "text": [
                        "La Variable Normal es: 0.982196709312198 Y la Deviacion Estandar es: 0.9910583783572984\n",
                        "La Variable Chi es: 9.97971099782797 Y la Deviacion Estandar es: 3.159068058435584\n"
                    ]
                }
            ],
            "source": [
                "#Variables y Deviacion Estandar\n",
                "\n",
                "variable_normal = stats.variance(Normales)\n",
                "Estandar_normal = stats.stdev(Normales)\n",
                "variable_chi = stats.variance(Chi_ste)\n",
                "Estandar_chi = stats.stdev(Chi_ste)\n",
                "\n",
                "print(f\"La Variable Normal es: {variable_normal} Y la Deviacion Estandar es: {Estandar_normal}\")\n",
                "print(f\"La Variable Chi es: {variable_chi} Y la Deviacion Estandar es: {Estandar_chi}\")"
            ]
        },
        {
            "cell_type": "markdown",
            "id": "46c70c3d",
            "metadata": {},
            "source": [
                "### Exercise 2\n",
                "\n",
                "Write a Python program to calculate the standard deviation of the following data:\n",
                "\n",
                "```py\n",
                "data = [4, 2, 5, 8, 6]\n",
                "```"
            ]
        },
        {
            "cell_type": "code",
            "execution_count": 24,
            "id": "d590308e",
            "metadata": {},
            "outputs": [
                {
                    "name": "stdout",
                    "output_type": "stream",
                    "text": [
                        "Datos Simples: [4, 2, 5, 8, 6]\n",
                        "Deviacion Estandar: 2.23606797749979\n"
                    ]
                }
            ],
            "source": [
                "# TODO\n",
                "def calculasion(dato):\n",
                "    numero = len(dato)\n",
                "    if (numero <= 1):\n",
                "        return 0.0\n",
                "    media, dev = avg_calc(dato), 0.0\n",
                "    for x in dato:\n",
                "        dev += (float(x) - media) ** 2\n",
                "    dev = math.sqrt(dev / float(numero - 1))\n",
                "    return dev\n",
                "\n",
                "def avg_calc(dato):\n",
                "    numero, media = len(dato), 0.0\n",
                "    if (numero <= 1):\n",
                "        return dato[0]\n",
                "    for x in dato:\n",
                "        media = media + float(x)\n",
                "    media = media / float(numero)\n",
                "    return media\n",
                "\n",
                "dato = [4, 2, 5, 8, 6]\n",
                "print(f\"Datos Simples: {dato}\")\n",
                "print(f\"Deviacion Estandar: {calculasion(dato)}\")"
            ]
        }
    ],
    "metadata": {
        "kernelspec": {
            "display_name": "Python 3",
            "language": "python",
            "name": "python3"
        },
        "language_info": {
            "codemirror_mode": {
                "name": "ipython",
                "version": 3
            },
            "file_extension": ".py",
            "mimetype": "text/x-python",
            "name": "python",
            "nbconvert_exporter": "python",
            "pygments_lexer": "ipython3",
            "version": "3.11.4"
        }
    },
    "nbformat": 4,
    "nbformat_minor": 5
}
